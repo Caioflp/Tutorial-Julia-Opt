{
 "cells": [
  {
   "cell_type": "markdown",
   "metadata": {},
   "source": [
    "# Tutorial de  Julia para Otimização\n",
    "## Escola de Verão - EMap/FGV\n",
    "## Aula 01 - Breve introdução ao Julia"
   ]
  },
  {
   "cell_type": "markdown",
   "metadata": {},
   "source": [
    "### Ministrante\n",
    "- Luiz-Rafael Santos (LABMAC/UFSC/Blumenau)\n",
    "    * Emails: [l.r.santos@ufsc.br](mailto:l.r.santos@ufsc.br) ou [lrsantos11@gmail.com](mailto:lrsantos11@ufsc.br)\n",
    "\n",
    "- Repositório do curso no Github: [https://github.com/lrsantos11/Tutorial-Julia]\n",
    "\n",
    "- Uso de Jupyter notebook e também do Julia (e possivelmente VSCode)\n",
    "    * Playlist com tutoriais de instalação do Julia, VSCode e Jupyter: https://youtube.com/playlist?list=PLIFgJAiAvzyFlCskAMgMFEtRWIY5OaNt_"
   ]
  },
  {
   "cell_type": "code",
   "execution_count": null,
   "metadata": {},
   "outputs": [],
   "source": [
    "using Plots\n",
    "pgfplotsx()"
   ]
  }
 ],
 "metadata": {
  "kernelspec": {
   "display_name": "Julia 1.5.3",
   "language": "julia",
   "name": "julia-1.5"
  },
  "language_info": {
   "file_extension": ".jl",
   "mimetype": "application/julia",
   "name": "julia",
   "version": "1.5.3"
  },
  "orig_nbformat": 2
 },
 "nbformat": 4,
 "nbformat_minor": 2
}