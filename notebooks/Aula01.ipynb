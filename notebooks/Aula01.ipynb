{
 "cells": [
  {
   "cell_type": "markdown",
   "metadata": {
    "slideshow": {
     "slide_type": "slide"
    }
   },
   "source": [
    "# Tutorial de  Julia para Otimização\n",
    "## Escola de Verão - EMap/FGV\n",
    "## Aula 01 - Breve introdução ao Julia\n",
    "\n",
    "### Ministrante\n",
    "- Luiz-Rafael Santos ([LABMAC/UFSC/Blumenau](http://labmac.mat.blumenau.ufsc.br))\n",
    "    * Email para contato: [l.r.santos@ufsc.br](mailto:l.r.santos@ufsc.br) ou [lrsantos11@gmail.com](mailto:lrsantos11@ufsc.br)\n",
    "\t- Repositório do curso no [Github](https://github.com/lrsantos11/Tutorial-Julia-Opt)\n"
   ]
  },
  {
   "cell_type": "markdown",
   "metadata": {
    "slideshow": {
     "slide_type": "slide"
    }
   },
   "source": [
    "### Como será o curso\n",
    "- Usaremos o [Julia](www.julialang.org)  através de notebooks [Jupyter](jupyter.org)+[IJulia](github.com/JuliaLang/IJulia.jl) e  [VSCode](https://www.julia-vscode.org/)) (possivelmente por temrinal também)\n",
    "    * [Aqui](https://youtube.com/playlist?list=PLIFgJAiAvzyFlCskAMgMFEtRWIY5OaNt_) temos uma playlist com tutoriais de instalação do Julia, Jupyter (e Pluto) e VSCode\n",
    "- Um pouco de teoria e bastante prática (não é um curso de otimização ou de modelagem)\n",
    "\n",
    "- Boas práticas de programação (em Julia) serão incentivadas \n",
    "\n",
    "- Apresentação de ferramentas para aprendizagem e pesquisa com foco em otimização (bem como pesquisa operacional,  aprendizagem de máquina, métodos numéricos, etc)\n",
    "    * Modelagem de problemas e solução (problemas práticos)\n",
    "    * Desenvolvimento de algoritmos de otimização\n",
    "    * Teste e e comparação de algoritmos"
   ]
  },
  {
   "cell_type": "markdown",
   "metadata": {
    "slideshow": {
     "slide_type": "slide"
    }
   },
   "source": [
    "## Apresentando Julia   \n",
    "\n",
    "[Julia](julialang.org) é uma lingagem computacional de *código-aberto* que tem se mostrado como um grande trunfo  no campo da computação científica\n",
    "\n",
    "### Algumas vantagens para computação científica\n",
    "\n",
    "* Código-aberto\n",
    "* Linguagem dinâmica com suporte a iteratividade (Jupyter Notebooks, REPL)\n",
    "* Julia usa [*multiple dispatch*](https://docs.julialang.org/en/v1/manual/methods/) como paradigma, tornando fácil a expressão de padrões de programação funcionais e de programação orientada a objeto.\n",
    "* **Rápida** - desenvolvida para [alta performance](https://julialang.org/benchmarks/)\n",
    "* Sintaxe parecida com o do MATLAB/Octave e Python\n",
    "* Fácil importação de bibliotecas e interface com C, Fortran, C++, Python, R, Java, entre outras linguagens\n",
    "* Enorme número de desenvolvedores e pacotes para os mais diversos campos da Computação Científica \n",
    "    * Além de otimização (veremos no decorrer do curso), há ótimos pacotes para Equações Diferenciais ([DifferentialEquations.jl ](https://diffeq.sciml.ai/v2.0/)),  Estatística e Ciência de Dados ([DataFrames.jl](https://github.com/JuliaData/DataFrames.jl) e [JuliaStat](https://juliastats.org/)), Aprendizagem de Máquina ([MLJ.jl](https://github.com/alan-turing-institute/MLJ.jl)), Imagens ([JuliaImages](https://juliaimages.org/stable/)), Computação Paralela  ([DistributedArrays.jl](https://github.com/JuliaParallel/DistributedArrays.jl) e [GPUs](https://juliagpu.org/)), Economia ([QuantEcon.jl](https://quantecon.org/quantecon-jl/)), Bioinformática ([BioJulia](https://biojulia.net/)), Sistemas Dinâmicos ([JuliaDynamics](https://github.com/JuliaDynamics)) entre outras coisas;\n",
    "* Vasto número de documentação e tutoriais disponíveis: \n",
    "    * Comece por [Julia Cheat Sheet](https://juliadocs.github.io/Julia-Cheat-Sheet/br/) e use Google!\n",
    "    * Fácil [adaptação](https://cheatsheets.quantecon.org/index.html) para usuários de MATLAB/Octave e Python, programas bastante comuns na implementação de algoritmos de otimização"
   ]
  },
  {
   "cell_type": "markdown",
   "metadata": {
    "slideshow": {
     "slide_type": "slide"
    }
   },
   "source": [
    "### Vantagens para otimização\n",
    "\n",
    "\n",
    "* Ecossistemas específicos para otimização (os que eu uso ou mais gosto, sem ordem de preferência):\n",
    "    * [JuliaOpt](https://www.juliaopt.org/)\n",
    "        * [JuMP](https://jump.dev/JuMP.jl/v0.19.0/index.html): lingagem de modelagem algébrica para otimização  linear, quadratica, and não-linear (com ou sem restrições)\n",
    "        * [Convex.jl](https://github.com/JuliaOpt/Convex.jl): linguagem de modelagem algébrica para [programação convexa disciplinada](https://dcp.stanford.edu/)\n",
    "        * [MathOptInterface](): uma camada de abstração para uso de solvers de otimização. Muitos solvers disponíveis de maneira bastante simples usam MOI: \n",
    "            * [GLPK](https://github.com/jump-dev/GLPK.jl) para otimização linear\n",
    "            * [IPOpt](https://github.com/jump-dev/Ipopt.jl) para otimização não-linear\n",
    "            * Gurobi, KNitro, CPLEX, Xpress, Mosek \n",
    "    * [JuliaSmoothOptimizers (JSO)](https://juliasmoothoptimizers.github.io/) coleção de pacotes em Julia para desenvolvimento, teste e *benchmark* de algoritmos de otimização (não-linear).\n",
    "        * Modelagem\n",
    "            * [NLPModels](https://github.com/JuliaSmoothOptimizers/NLPModels.jl): API para representar problemas de otimização `min f(x) s.t. l <= c(x) <= u`\n",
    "            * [CUtEst.jl](https://github.com/JuliaSmoothOptimizers/CUTEst.jl): interface para o [CUTEst](http://ccpforge.cse.rl.ac.uk/gf/project/cutest/wiki), repositório de problemas de otimização para teste  comparação de algoritmos de otimização.\n",
    "        * Ferramentas para Solvers\n",
    "            * [SolverTools](https://github.com/JuliaSmoothOptimizers/SolverTools.jl) e [SolverBenchmark](https://github.com/JuliaSmoothOptimizers/SolverBenchmark.jl) *framework* para construir e testra novos algoritmos de otimização em Julia\n",
    "            * [BenchmarkProfiles](https://github.com/JuliaSmoothOptimizers/BenchmarkProfiles.jl) pacote em Julia para gerar os Perfis de Desempenho de Dolan, Moré e Wild, largamente usados para comparar algoritmos de otimização.\n",
    "\t\t* Curso de otimização com uso de algumas das ferramentas do Julia: [Otimização em Julia](https://youtube.com/playlist?list=PLOOY0eChA1uyk_01nGJVmcQGvcJq9h6_6) do prof. [Abel Siqueira](https://abelsiqueira.github.io/) - UFPR e JSO.\n",
    "\t* [ProximalOperators.jl](https://kul-forbes.github.io/ProximalOperators.jl/stable/)  implementa primitivas de primeira ordem (em particular operadores `prox`) que facilitam)\n",
    "\n",
    "* Facilidade para gerar gráficos e vizualizações usando o ecosistema [Plots](http://docs.juliaplots.org/latest/)\n"
   ]
  },
  {
   "cell_type": "markdown",
   "metadata": {
    "slideshow": {
     "slide_type": "slide"
    }
   },
   "source": [
    "## Pra início de conversa\n",
    "\n",
    "Podemos usar o Julia:\n",
    "* em um notebook como este\n",
    "* em um ambiente de produção geral (terminal + editor) ou específico (VSCode)"
   ]
  },
  {
   "cell_type": "markdown",
   "metadata": {
    "slideshow": {
     "slide_type": "subslide"
    }
   },
   "source": [
    "### Em Notebooks\n",
    "* Começaremos os notebooks sempre ativando o ambiente (*enviroment*) usando os comando abaixo para garantir que temos os pacotes necessários. (Opcional)"
   ]
  },
  {
   "cell_type": "code",
   "execution_count": 1,
   "metadata": {
    "slideshow": {
     "slide_type": "fragment"
    }
   },
   "outputs": [
    {
     "name": "stderr",
     "output_type": "stream",
     "text": [
      "\u001b[32m\u001b[1m Activating\u001b[22m\u001b[39m environment at `~/Dropbox/extensao/cursos/2021/Tutorial-Julia-Opt/Project.toml`\n"
     ]
    }
   ],
   "source": [
    "using Pkg\n",
    "pkg\"activate ../.\"\n",
    "pkg\"instantiate\""
   ]
  },
  {
   "cell_type": "markdown",
   "metadata": {
    "slideshow": {
     "slide_type": "subslide"
    }
   },
   "source": [
    "* Como adicionar pacotes?\n",
    " * Em notebook"
   ]
  },
  {
   "cell_type": "code",
   "execution_count": 2,
   "metadata": {
    "slideshow": {
     "slide_type": "fragment"
    }
   },
   "outputs": [
    {
     "name": "stderr",
     "output_type": "stream",
     "text": [
      "\u001b[32m\u001b[1m   Updating\u001b[22m\u001b[39m registry at `~/.julia/registries/General`\n",
      "\u001b[32m\u001b[1m  Resolving\u001b[22m\u001b[39m package versions...\n",
      "\u001b[32m\u001b[1mNo Changes\u001b[22m\u001b[39m to `~/Dropbox/extensao/cursos/2021/Tutorial-Julia-Opt/Project.toml`\n",
      "\u001b[32m\u001b[1mNo Changes\u001b[22m\u001b[39m to `~/Dropbox/extensao/cursos/2021/Tutorial-Julia-Opt/Manifest.toml`\n"
     ]
    }
   ],
   "source": [
    "using Pkg # Só necessário uma vez\n",
    "pkg\"add Plots\""
   ]
  },
  {
   "cell_type": "markdown",
   "metadata": {
    "slideshow": {
     "slide_type": "subslide"
    }
   },
   "source": [
    "  * Na linha de comando\n",
    "  ```julia\n",
    "    julia> ]\n",
    "    (@v1.5) pkg> activate .\n",
    "    (NomeProjeto) pkg> instantiate \n",
    "    (NomeProjeto) pkg> add Plots # se necessário para adicionar outros pacotes\n",
    "    \n",
    "  ```"
   ]
  },
  {
   "cell_type": "markdown",
   "metadata": {
    "slideshow": {
     "slide_type": "slide"
    }
   },
   "source": [
    "# Um exemplo com um gráfico bonito com [Atrator de Lorenz](https://pt.wikipedia.org/wiki/Atractor_de_Lorenz)"
   ]
  },
  {
   "cell_type": "code",
   "execution_count": null,
   "metadata": {
    "slideshow": {
     "slide_type": "subslide"
    }
   },
   "outputs": [],
   "source": [
    "using Plots\n",
    "# Definindo um ponto do atrator de Lorenz como uma estrutura\n",
    "Base.@kwdef mutable struct Lorenz\n",
    "    dt::Float64 = 0.02 #tamanho do passo\n",
    "    σ::Float64 = 10 # número de Prandtl \n",
    "    ρ::Float64 = 28 # número de Rayleigh (outros valores 13, 14, 15, 28)\n",
    "    β::Float64 = 8/3\n",
    "    x::Float64 = 1\n",
    "    y::Float64 = 1\n",
    "    z::Float64 = 1\n",
    "end\n",
    "\n",
    "\n",
    "# Passo de método numérico (Euler)\n",
    "function step!(l::Lorenz)\n",
    "    dx = l.σ * (l.y - l.x);         l.x += l.dt * dx\n",
    "    dy = l.x * (l.ρ - l.z) - l.y;   l.y += l.dt * dy\n",
    "    dz = l.x * l.y - l.β * l.z;     l.z += l.dt * dz\n",
    "end\n",
    "\n",
    "attractor = Lorenz()\n",
    "\n",
    "\n",
    "# Inicializar o grafico com primeiro ponto\n",
    "plt = plot3d(\n",
    "    1,\n",
    "    xlim = (-30, 30),\n",
    "    ylim = (-30, 30),\n",
    "    zlim = (0, 60),\n",
    "    title = \"Lorenz Attractor\",\n",
    "    marker = 2,\n",
    "    leg = false,\n",
    ")\n",
    "\n",
    "\n",
    "# build an animated gif by pushing new points to the plot, saving every 10th frame\n",
    "@gif for i=1:1500\n",
    "    step!(attractor)\n",
    "    push!(plt, attractor.x, attractor.y, attractor.z)\n",
    "end every 10"
   ]
  },
  {
   "cell_type": "markdown",
   "metadata": {
    "slideshow": {
     "slide_type": "slide"
    }
   },
   "source": [
    "## Quão rápido é Julia?\n",
    "\n",
    "* Segundo o site oficial, bastante [**Rápida**](https://julialang.org/benchmarks/)"
   ]
  },
  {
   "cell_type": "markdown",
   "metadata": {
    "slideshow": {
     "slide_type": "subslide"
    }
   },
   "source": [
    "### Acesso à uma matriz por linhas e por colunas\n",
    "\n",
    "* Tipo de ordenação: [*Row-major* ou *Column-major order*](https://en.wikipedia.org/wiki/Row-_and_column-major_order)\n",
    "\n",
    "##### Exemplo\n",
    "Uma matriz  $A=\\left[\\begin{array}{lll}a_{11} & a_{12} & a_{13} \\\\ a_{21} & a_{22} & a_{23}\\end{array}\\right]$ pode ser (possivelmente) guardada na memória do computador seguintes duas formas:\n",
    "\n",
    "| Endereço | Row-major | Column-major |\n",
    "| --- | --- | --- |\n",
    "| 1      | $a_{11}$ | $a_{11}$| \n",
    "|2      | $a_{12}$ | $a_{21}$ |\n",
    "|3      | $a_{13}$ | $a_{12}$ |\n",
    "|4      | $a_{21}$ | $a_{22}$ |\n",
    "|5      | $a_{22}$ | $a_{13}$ |\n",
    "|6      | $a_{23}$ | $a_{23}$ |"
   ]
  },
  {
   "cell_type": "markdown",
   "metadata": {
    "slideshow": {
     "slide_type": "subslide"
    }
   },
   "source": [
    "- Visualmente temos\n",
    "![alt text](Row_and_column_major.png \"Title\")\n",
    "\n",
    "* Depende da linguagem de programação\n",
    "    - **Row-major**: C/C++/Objective-C, Pascal, SAS.\n",
    "\n",
    "    - **Column-major**: Fortran, MATLAB, GNU Octave, R, Julia, e Scilab."
   ]
  },
  {
   "cell_type": "markdown",
   "metadata": {
    "slideshow": {
     "slide_type": "subslide"
    }
   },
   "source": [
    "* Vamos mostrar o tempo de CPU de um algoritmo que aloca em cada componente $a_{ij}$ de uma matrix $A\\in\\mathbb{R}^{m\\times n}$ o valor $10i + j$ escrito em\n",
    "     - C\n",
    "     - Octave\n",
    "     - Julia\n",
    "          \n",
    "* Para medir tempo em Julia vamos usar o pacote [BenchmarkTools.jl](https://github.com/JuliaCI/BenchmarkTools.jl)"
   ]
  },
  {
   "cell_type": "code",
   "execution_count": null,
   "metadata": {
    "slideshow": {
     "slide_type": "subslide"
    }
   },
   "outputs": [],
   "source": [
    "pkg\"add BenchmarkTools.jl\""
   ]
  }
 ],
 "metadata": {
  "celltoolbar": "Slideshow",
  "kernelspec": {
   "display_name": "Julia 1.5.3",
   "language": "julia",
   "name": "julia-1.5"
  },
  "language_info": {
   "file_extension": ".jl",
   "mimetype": "application/julia",
   "name": "julia",
   "version": "1.5.3"
  },
  "latex_envs": {
   "LaTeX_envs_menu_present": true,
   "autoclose": false,
   "autocomplete": true,
   "bibliofile": "biblio.bib",
   "cite_by": "apalike",
   "current_citInitial": 1,
   "eqLabelWithNumbers": true,
   "eqNumInitial": 1,
   "hotkeys": {
    "equation": "Ctrl-E",
    "itemize": "Ctrl-I"
   },
   "labels_anchors": false,
   "latex_user_defs": false,
   "report_style_numbering": false,
   "user_envs_cfg": false
  }
 },
 "nbformat": 4,
 "nbformat_minor": 2
}
