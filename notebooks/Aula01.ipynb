{
 "cells": [
  {
   "cell_type": "markdown",
   "metadata": {},
   "source": [
    "# Tutorial de  Julia para Otimização\n",
    "## Escola de Verão - EMap/FGV\n",
    "## Aula 01 - Breve introdução ao Julia"
   ]
  },
  {
   "cell_type": "markdown",
   "metadata": {},
   "source": [
    "### Ministrante\n",
    "- Luiz-Rafael Santos (LABMAC/UFSC/Blumenau)\n",
    "    * Emails: [l.r.santos@ufsc.br](mailto:l.r.santos@ufsc.br) ou [lrsantos11@gmail.com](mailto:lrsantos11@ufsc.br)\n",
    "\n",
    "- Repositório do curso no Github: [https://github.com/lrsantos11/Tutorial-Julia]\n",
    "\n",
    "- Uso de Jupyter notebook e também do Julia (e possivelmente VSCode)\n",
    "    * [Aqui](https://youtube.com/playlist?list=PLIFgJAiAvzyFlCskAMgMFEtRWIY5OaNt_) temos uma playlist com tutoriais de instalação do Julia, Jupyter (e Pluto) e VSCode"
   ]
  },
  {
   "cell_type": "code",
   "execution_count": 3,
   "metadata": {},
   "outputs": [
    {
     "data": {
      "text/plain": "Plots.PGFPlotsXBackend()"
     },
     "execution_count": 3,
     "metadata": {},
     "output_type": "execute_result"
    }
   ],
   "source": [
    "using Plots\n",
    "pgfplotsx()"
   ]
  },
  {
   "cell_type": "code",
   "execution_count": null,
   "metadata": {},
   "outputs": [],
   "source": []
  }
 ],
 "metadata": {
  "kernelspec": {
   "display_name": "Julia 1.5.3",
   "language": "julia",
   "name": "julia-1.5"
  },
  "language_info": {
   "file_extension": ".jl",
   "mimetype": "application/julia",
   "name": "julia",
   "version": "1.5.3"
  },
  "orig_nbformat": 2
 },
 "nbformat": 4,
 "nbformat_minor": 2
}